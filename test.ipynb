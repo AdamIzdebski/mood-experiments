{
 "cells": [
  {
   "cell_type": "markdown",
   "metadata": {},
   "source": [
    "# Compare the performance of the models"
   ]
  },
  {
   "cell_type": "code",
   "execution_count": 2,
   "metadata": {},
   "outputs": [
    {
     "name": "stderr",
     "output_type": "stream",
     "text": [
      "/home/adamizdebski/miniconda3/envs/mood-experiments/lib/python3.10/site-packages/tqdm/auto.py:21: TqdmWarning: IProgress not found. Please update jupyter and ipywidgets. See https://ipywidgets.readthedocs.io/en/stable/user_install.html\n",
      "  from .autonotebook import tqdm as notebook_tqdm\n",
      "Skipped loading some Tensorflow models, missing a dependency. No module named 'tensorflow'\n",
      "Skipped loading modules with pytorch-geometric dependency, missing a dependency. No module named 'torch_geometric'\n",
      "Skipped loading modules with pytorch-geometric dependency, missing a dependency. cannot import name 'DMPNN' from 'deepchem.models.torch_models' (/home/adamizdebski/miniconda3/envs/mood-experiments/lib/python3.10/site-packages/deepchem/models/torch_models/__init__.py)\n",
      "Skipped loading modules with pytorch-lightning dependency, missing a dependency. No module named 'lightning'\n",
      "Skipped loading some Jax models, missing a dependency. No module named 'jax'\n",
      "Skipped loading some PyTorch models, missing a dependency. No module named 'tensorflow'\n"
     ]
    }
   ],
   "source": [
    "import yaml\n",
    "import fsspec\n",
    "\n",
    "import pandas as pd\n",
    "import numpy as np\n",
    "import datamol as dm\n",
    "\n",
    "from typing import Optional\n",
    "from datetime import datetime\n",
    "from loguru import logger\n",
    "from sklearn.model_selection import train_test_split\n",
    "from tqdm import tqdm\n",
    "\n",
    "from mood.constants import RESULTS_DIR\n",
    "from mood.dataset import load_data_from_tdc, MOOD_REGR_DATASETS\n",
    "from mood.metrics import Metric, compute_bootstrapped_metric\n",
    "from mood.representations import featurize\n",
    "from mood.baselines import predict_baseline_uncertainty\n",
    "from mood.train import train_baseline_model\n",
    "from mood.experiment import basic_tuning_loop\n",
    "from mood.utils import bin_with_overlap, load_distances_for_downstream_application\n",
    "from mood.distance import compute_knn_distance\n",
    "from mood.preprocessing import DEFAULT_PREPROCESSING\n",
    "\n",
    "from mood.representations import compute_jointformer\n",
    "\n",
    "%load_ext autoreload\n",
    "%autoreload 2"
   ]
  },
  {
   "cell_type": "code",
   "execution_count": 3,
   "metadata": {},
   "outputs": [],
   "source": [
    "baseline_algorithm: str = \"RF\"\n",
    "representation: str = \"Jointformer\"\n",
    "dataset: str = \"Lipophilicity\"\n",
    "n_seeds: int = 1\n",
    "n_trials: int = 2\n",
    "n_startup_trials: int = 1\n",
    "base_save_dir: str = RESULTS_DIR\n",
    "sub_save_dir: Optional[str] = None\n",
    "overwrite: bool = False"
   ]
  },
  {
   "cell_type": "code",
   "execution_count": 4,
   "metadata": {},
   "outputs": [],
   "source": [
    "if sub_save_dir is None:\n",
    "    sub_save_dir = datetime.now().strftime(\"%Y%m%d\")\n",
    "out_dir = dm.fs.join(base_save_dir, \"dataframes\", \"compare_performance\", sub_save_dir)\n",
    "dm.fs.mkdir(out_dir, exist_ok=True)"
   ]
  },
  {
   "cell_type": "code",
   "execution_count": 5,
   "metadata": {},
   "outputs": [
    {
     "name": "stderr",
     "output_type": "stream",
     "text": [
      "Found local copy...\n",
      "Loading...\n",
      "Done!\n",
      "Failed to find the pandas get_adjustment() function to patch\n",
      "Failed to patch pandas - PandasTools will have limited functionality\n"
     ]
    }
   ],
   "source": [
    "\n",
    "# Load the dataset\n",
    "smiles, y = load_data_from_tdc(dataset)\n",
    "\n"
   ]
  },
  {
   "cell_type": "code",
   "execution_count": 6,
   "metadata": {},
   "outputs": [
    {
     "name": "stderr",
     "output_type": "stream",
     "text": [
      "Preprocess Jointformer:   0%|          | 0/4200 [00:00<?, ?it/s]Failed to find the pandas get_adjustment() function to patch\n",
      "Failed to patch pandas - PandasTools will have limited functionality\n",
      "Failed to find the pandas get_adjustment() function to patch\n",
      "Failed to patch pandas - PandasTools will have limited functionality\n",
      "Failed to find the pandas get_adjustment() function to patch\n",
      "Failed to patch pandas - PandasTools will have limited functionality\n",
      "Preprocess Jointformer:   0%|          | 1/4200 [00:01<1:53:24,  1.62s/it]Failed to find the pandas get_adjustment() function to patch\n",
      "Failed to patch pandas - PandasTools will have limited functionality\n",
      "Failed to find the pandas get_adjustment() function to patch\n",
      "Failed to patch pandas - PandasTools will have limited functionality\n",
      "Failed to find the pandas get_adjustment() function to patch\n",
      "Failed to patch pandas - PandasTools will have limited functionality\n",
      "Failed to find the pandas get_adjustment() function to patch\n",
      "Failed to patch pandas - PandasTools will have limited functionality\n",
      "Failed to find the pandas get_adjustment() function to patch\n",
      "Failed to patch pandas - PandasTools will have limited functionality\n",
      "Failed to find the pandas get_adjustment() function to patch\n",
      "Failed to patch pandas - PandasTools will have limited functionality\n",
      "Preprocess Jointformer:   0%|          | 4/4200 [00:01<23:36,  2.96it/s]  Failed to find the pandas get_adjustment() function to patch\n",
      "Failed to patch pandas - PandasTools will have limited functionality\n",
      "Failed to find the pandas get_adjustment() function to patch\n",
      "Failed to patch pandas - PandasTools will have limited functionality\n",
      "Failed to find the pandas get_adjustment() function to patch\n",
      "Failed to patch pandas - PandasTools will have limited functionality\n",
      "Failed to find the pandas get_adjustment() function to patch\n",
      "Failed to patch pandas - PandasTools will have limited functionality\n",
      "Preprocess Jointformer:   1%|          | 26/4200 [00:01<02:45, 25.21it/s]Failed to find the pandas get_adjustment() function to patch\n",
      "Failed to patch pandas - PandasTools will have limited functionality\n",
      "Failed to find the pandas get_adjustment() function to patch\n",
      "Failed to patch pandas - PandasTools will have limited functionality\n",
      "Failed to find the pandas get_adjustment() function to patch\n",
      "Failed to find the pandas get_adjustment() function to patch\n",
      "Failed to patch pandas - PandasTools will have limited functionality\n",
      "Failed to patch pandas - PandasTools will have limited functionality\n",
      "Failed to find the pandas get_adjustment() function to patch\n",
      "Failed to patch pandas - PandasTools will have limited functionality\n",
      "Preprocess Jointformer:   2%|▏         | 76/4200 [00:01<00:48, 85.68it/s]Failed to find the pandas get_adjustment() function to patch\n",
      "Failed to patch pandas - PandasTools will have limited functionality\n",
      "Failed to find the pandas get_adjustment() function to patch\n",
      "Failed to patch pandas - PandasTools will have limited functionality\n",
      "Failed to find the pandas get_adjustment() function to patch\n",
      "Failed to patch pandas - PandasTools will have limited functionality\n",
      "Failed to find the pandas get_adjustment() function to patch\n",
      "Failed to patch pandas - PandasTools will have limited functionality\n",
      "Failed to find the pandas get_adjustment() function to patch\n",
      "Failed to patch pandas - PandasTools will have limited functionality\n",
      "Failed to find the pandas get_adjustment() function to patch\n",
      "Failed to patch pandas - PandasTools will have limited functionality\n",
      "Preprocess Jointformer: 100%|██████████| 4200/4200 [00:02<00:00, 1472.83it/s]\n",
      "Encoding samples: 100%|██████████| 263/263 [00:05<00:00, 45.57it/s]\n",
      "\u001b[32m2024-08-16 18:37:35.712\u001b[0m | \u001b[1mINFO    \u001b[0m | \u001b[36mmood.representations\u001b[0m:\u001b[36mfeaturize\u001b[0m:\u001b[36m114\u001b[0m - \u001b[1mSuccesfully computed representations for 4200/4200 compounds\u001b[0m\n"
     ]
    }
   ],
   "source": [
    "\n",
    "X, mask = featurize(\n",
    "smiles,\n",
    "representation,\n",
    "standardize_fn=DEFAULT_PREPROCESSING[representation],\n",
    "disable_logs=True,\n",
    ")\n",
    "y = y[mask]\n",
    "is_regression = dataset in MOOD_REGR_DATASETS\n"
   ]
  },
  {
   "cell_type": "code",
   "execution_count": 7,
   "metadata": {},
   "outputs": [],
   "source": [
    "\n",
    "# Get the metrics\n",
    "perf_metric = Metric.get_default_performance_metric(dataset)\n",
    "cali_metric = Metric.get_default_calibration_metric(dataset)\n",
    "\n"
   ]
  },
  {
   "cell_type": "code",
   "execution_count": 8,
   "metadata": {},
   "outputs": [
    {
     "name": "stderr",
     "output_type": "stream",
     "text": [
      "\u001b[32m2024-08-16 18:37:35.781\u001b[0m | \u001b[1mINFO    \u001b[0m | \u001b[36m__main__\u001b[0m:\u001b[36m<module>\u001b[0m:\u001b[36m19\u001b[0m - \u001b[1mLoading the best hyper-params from /home/adamizdebski/files/mood-experiments/results/dataframes/compare_performance/20240816/best_hparams_Lipophilicity_RF_Jointformer_0.yaml\u001b[0m\n"
     ]
    }
   ],
   "source": [
    "\n",
    "# Generate all data needed for these plots\n",
    "dist_train = []\n",
    "dist_test = []\n",
    "y_pred = []\n",
    "y_true = []\n",
    "y_uncertainty = []\n",
    "\n",
    "for seed in range(n_seeds):\n",
    "    # Randomly split the dataset\n",
    "    # This ensures that the distribution of distances from val to train is relatively uniform\n",
    "    X_train, X_test, y_train, y_test = train_test_split(X, y, test_size=0.2, random_state=seed)\n",
    "    X_train, X_val, y_train, y_val = train_test_split(X_train, y_train, test_size=0.2, random_state=seed)\n",
    "\n",
    "    file_name = f\"best_hparams_{dataset}_{baseline_algorithm}_{representation}_{seed}.yaml\"\n",
    "    out_path = dm.fs.join(out_dir, file_name)\n",
    "\n",
    "    if dm.fs.exists(out_path):\n",
    "        # Load the data of the completed hyper-param study if it already exists\n",
    "        logger.info(f\"Loading the best hyper-params from {out_path}\")\n",
    "        with fsspec.open(out_path) as fd:\n",
    "            params = yaml.safe_load(fd)\n",
    "\n",
    "    else:\n",
    "        # Run a hyper-parameter search\n",
    "        study = basic_tuning_loop(\n",
    "            X_train=X_train,\n",
    "            X_test=X_val,\n",
    "            y_train=y_train,\n",
    "            y_test=y_val,\n",
    "            name=baseline_algorithm,\n",
    "            is_regression=is_regression,\n",
    "            metric=perf_metric,\n",
    "            global_seed=seed,\n",
    "            n_trials=n_trials,\n",
    "            n_startup_trials=n_startup_trials,\n",
    "        )\n",
    "\n",
    "        params = study.best_params\n",
    "        random_state = seed + study.best_trial.number\n",
    "        params[\"random_state\"] = random_state\n",
    "\n",
    "        logger.info(f\"Saving the best hyper-params to {out_path}\")\n",
    "        with fsspec.open(out_path, \"w\") as fd:\n",
    "            yaml.dump(params, fd)\n",
    "\n",
    "        file_name = f\"trials_{dataset}_{baseline_algorithm}_{representation}_{seed}.csv\"\n",
    "        out_path = dm.fs.join(out_dir, file_name)\n",
    "\n",
    "        logger.info(f\"Saving the trials dataframe to {out_path}\")\n",
    "        study.trials_dataframe().to_csv(out_path)\n",
    "\n",
    "    random_state = params.pop(\"random_state\")\n",
    "    model = train_baseline_model(\n",
    "        X_train,\n",
    "        y_train,\n",
    "        baseline_algorithm,\n",
    "        is_regression,\n",
    "        params,\n",
    "        random_state,\n",
    "        for_uncertainty_estimation=True,\n",
    "        ensemble_size=10,\n",
    "    )\n",
    "\n",
    "    y_pred_ = model.predict(X_test)\n",
    "    y_uncertainty_ = predict_baseline_uncertainty(model, X_test)\n",
    "\n",
    "    y_pred.append(y_pred_)\n",
    "    y_true.append(y_test)\n",
    "    y_uncertainty.append(y_uncertainty_)\n",
    "\n",
    "    dist_train_, dist_test_ = compute_knn_distance(X_train, [X_train, X_test])\n",
    "    dist_train.append(dist_train_)\n",
    "    dist_test.append(dist_test_)\n",
    "\n",
    "dist_test = np.concatenate(dist_test)\n",
    "dist_train = np.concatenate(dist_train)\n",
    "y_pred = np.concatenate(y_pred)\n",
    "y_true = np.concatenate(y_true)\n",
    "y_uncertainty = np.concatenate(y_uncertainty)\n",
    "\n"
   ]
  },
  {
   "cell_type": "code",
   "execution_count": 9,
   "metadata": {},
   "outputs": [
    {
     "name": "stderr",
     "output_type": "stream",
     "text": [
      "\u001b[32m2024-08-16 18:37:50.064\u001b[0m | \u001b[34m\u001b[1mDEBUG   \u001b[0m | \u001b[36mmood.utils\u001b[0m:\u001b[36mload_distances_for_downstream_application\u001b[0m:\u001b[36m57\u001b[0m - \u001b[34m\u001b[1mDownloading /home/adamizdebski/files/mood-experiments/downstream_applications/distances/virtual_screening/Lipophilicity/Jointformer.parquet to /home/adamizdebski/.cache/MOOD/downstream_applications/distances/virtual_screening/Lipophilicity/Jointformer.parquet\u001b[0m\n",
      "\u001b[32m2024-08-16 18:37:50.449\u001b[0m | \u001b[34m\u001b[1mDEBUG   \u001b[0m | \u001b[36mmood.utils\u001b[0m:\u001b[36mload_distances_for_downstream_application\u001b[0m:\u001b[36m57\u001b[0m - \u001b[34m\u001b[1mDownloading /home/adamizdebski/files/mood-experiments/downstream_applications/distances/optimization/Lipophilicity/Jointformer.parquet to /home/adamizdebski/.cache/MOOD/downstream_applications/distances/optimization/Lipophilicity/Jointformer.parquet\u001b[0m\n"
     ]
    }
   ],
   "source": [
    "# Collect the distances of the downstream applications\n",
    "dist_scr = load_distances_for_downstream_application(\n",
    "    \"virtual_screening\", representation, dataset, update_cache=True\n",
    ")\n",
    "dist_opt = load_distances_for_downstream_application(\n",
    "    \"optimization\", representation, dataset, update_cache=True\n",
    ")\n",
    "dist_app = np.concatenate((dist_opt, dist_scr))\n"
   ]
  },
  {
   "cell_type": "code",
   "execution_count": 10,
   "metadata": {},
   "outputs": [
    {
     "name": "stderr",
     "output_type": "stream",
     "text": [
      "\u001b[32m2024-08-16 18:37:50.703\u001b[0m | \u001b[1mINFO    \u001b[0m | \u001b[36m__main__\u001b[0m:\u001b[36m<module>\u001b[0m:\u001b[36m6\u001b[0m - \u001b[1mFound an IID MAE score of 0.720\u001b[0m\n",
      "\u001b[32m2024-08-16 18:37:50.704\u001b[0m | \u001b[1mINFO    \u001b[0m | \u001b[36m__main__\u001b[0m:\u001b[36m<module>\u001b[0m:\u001b[36m7\u001b[0m - \u001b[1mFound an IID Pearson calibration score of 0.257\u001b[0m\n",
      "\u001b[32m2024-08-16 18:37:50.708\u001b[0m | \u001b[1mINFO    \u001b[0m | \u001b[36m__main__\u001b[0m:\u001b[36m<module>\u001b[0m:\u001b[36m13\u001b[0m - \u001b[1mFound an OOD MAE score of 0.775\u001b[0m\n",
      "\u001b[32m2024-08-16 18:37:50.708\u001b[0m | \u001b[1mINFO    \u001b[0m | \u001b[36m__main__\u001b[0m:\u001b[36m<module>\u001b[0m:\u001b[36m14\u001b[0m - \u001b[1mFound an OOD Pearson calibration score of 0.218\u001b[0m\n"
     ]
    },
    {
     "ename": "RuntimeError",
     "evalue": "/home/adamizdebski/files/mood-experiments/results/dataframes/compare_performance/20240816/gap_Lipophilicity_RF_Jointformer.csv already exists!",
     "output_type": "error",
     "traceback": [
      "\u001b[0;31m---------------------------------------------------------------------------\u001b[0m",
      "\u001b[0;31mRuntimeError\u001b[0m                              Traceback (most recent call last)",
      "Cell \u001b[0;32mIn[10], line 19\u001b[0m\n\u001b[1;32m     17\u001b[0m out_path \u001b[38;5;241m=\u001b[39m dm\u001b[38;5;241m.\u001b[39mfs\u001b[38;5;241m.\u001b[39mjoin(out_dir, file_name)\n\u001b[1;32m     18\u001b[0m \u001b[38;5;28;01mif\u001b[39;00m dm\u001b[38;5;241m.\u001b[39mfs\u001b[38;5;241m.\u001b[39mexists(out_path) \u001b[38;5;129;01mand\u001b[39;00m \u001b[38;5;129;01mnot\u001b[39;00m overwrite:\n\u001b[0;32m---> 19\u001b[0m     \u001b[38;5;28;01mraise\u001b[39;00m \u001b[38;5;167;01mRuntimeError\u001b[39;00m(\u001b[38;5;124mf\u001b[39m\u001b[38;5;124m\"\u001b[39m\u001b[38;5;132;01m{\u001b[39;00mout_path\u001b[38;5;132;01m}\u001b[39;00m\u001b[38;5;124m already exists!\u001b[39m\u001b[38;5;124m\"\u001b[39m)\n\u001b[1;32m     21\u001b[0m \u001b[38;5;66;03m# Saving this as a CSV might be a bit wasteful,\u001b[39;00m\n\u001b[1;32m     22\u001b[0m \u001b[38;5;66;03m# but it's convenient\u001b[39;00m\n\u001b[1;32m     23\u001b[0m logger\u001b[38;5;241m.\u001b[39minfo(\u001b[38;5;124mf\u001b[39m\u001b[38;5;124m\"\u001b[39m\u001b[38;5;124mSaving the IID/OOD gap data to \u001b[39m\u001b[38;5;132;01m{\u001b[39;00mout_path\u001b[38;5;132;01m}\u001b[39;00m\u001b[38;5;124m\"\u001b[39m)\n",
      "\u001b[0;31mRuntimeError\u001b[0m: /home/adamizdebski/files/mood-experiments/results/dataframes/compare_performance/20240816/gap_Lipophilicity_RF_Jointformer.csv already exists!"
     ]
    }
   ],
   "source": [
    "\n",
    "# Compute the difference in IID and OOD performance and calibration\n",
    "lower, upper = np.quantile(dist_train, 0.025), np.quantile(dist_train, 0.975)\n",
    "mask = np.logical_and(dist_test >= lower, dist_test <= upper)\n",
    "score_iid = perf_metric(y_true[mask], y_pred[mask])\n",
    "calibration_iid = cali_metric(y_true[mask], y_pred[mask], y_uncertainty[mask])\n",
    "logger.info(f\"Found an IID {perf_metric.name} score of {score_iid:.3f}\")\n",
    "logger.info(f\"Found an IID {cali_metric.name} calibration score of {calibration_iid:.3f}\")\n",
    "\n",
    "lower, upper = np.quantile(dist_app, 0.025), np.quantile(dist_app, 0.975)\n",
    "mask = np.logical_and(dist_test >= lower, dist_test <= upper)\n",
    "score_ood = perf_metric(y_true[mask], y_pred[mask])\n",
    "calibration_ood = cali_metric(y_true[mask], y_pred[mask], y_uncertainty[mask])\n",
    "logger.info(f\"Found an OOD {perf_metric.name} score of {score_ood:.3f}\")\n",
    "logger.info(f\"Found an OOD {cali_metric.name} calibration score of {calibration_ood:.3f}\")\n",
    "\n",
    "file_name = f\"gap_{dataset}_{baseline_algorithm}_{representation}.csv\"\n",
    "out_path = dm.fs.join(out_dir, file_name)\n",
    "if dm.fs.exists(out_path) and not overwrite:\n",
    "    raise RuntimeError(f\"{out_path} already exists!\")\n",
    "\n",
    "# Saving this as a CSV might be a bit wasteful,\n",
    "# but it's convenient\n",
    "logger.info(f\"Saving the IID/OOD gap data to {out_path}\")\n",
    "\n",
    "pd.DataFrame(\n",
    "    {\n",
    "        \"dataset\": dataset,\n",
    "        \"algorithm\": baseline_algorithm,\n",
    "        \"representation\": representation,\n",
    "        \"iid_score\": [score_iid, calibration_iid],\n",
    "        \"ood_score\": [score_ood, calibration_ood],\n",
    "        \"metric\": [perf_metric.name, cali_metric.name],\n",
    "        \"type\": [\"performance\", \"calibration\"],\n",
    "    }\n",
    ").to_csv(out_path, index=False)\n",
    "\n"
   ]
  },
  {
   "cell_type": "code",
   "execution_count": null,
   "metadata": {},
   "outputs": [
    {
     "name": "stderr",
     "output_type": "stream",
     "text": [
      "0it [00:00, ?it/s]"
     ]
    },
    {
     "ename": "",
     "evalue": "",
     "output_type": "error",
     "traceback": [
      "\u001b[1;31mThe Kernel crashed while executing code in the current cell or a previous cell. \n",
      "\u001b[1;31mPlease review the code in the cell(s) to identify a possible cause of the failure. \n",
      "\u001b[1;31mClick <a href='https://aka.ms/vscodeJupyterKernelCrash'>here</a> for more info. \n",
      "\u001b[1;31mView Jupyter <a href='command:jupyter.viewOutput'>log</a> for further details."
     ]
    }
   ],
   "source": [
    "\n",
    "# Compute the performance over distance\n",
    "df = pd.DataFrame()\n",
    "\n",
    "for distance, mask in tqdm(bin_with_overlap(dist_test)):\n",
    "\n",
    "    target = y_true[mask]\n",
    "    preds = y_pred[mask]\n",
    "    uncertainty = y_uncertainty[mask]\n",
    "\n",
    "    n_samples = len(mask)\n",
    "    if n_samples < 25 or len(np.unique(target)) == 1:\n",
    "        continue\n",
    "\n",
    "    perf_mu, perf_std = compute_bootstrapped_metric(\n",
    "        targets=target, predictions=preds, metric=perf_metric, n_jobs=4\n",
    "    ) # this breaks kernel -> is it because of pandas??\n",
    "\n",
    "    break\n",
    "\n",
    "    cali_mu, cali_std = compute_bootstrapped_metric(\n",
    "        targets=target, predictions=preds, uncertainties=uncertainty, metric=cali_metric, n_jobs=4\n",
    "    )\n",
    "\n",
    "    df_ = pd.DataFrame(\n",
    "        {\n",
    "            \"dataset\": dataset,\n",
    "            \"algorithm\": baseline_algorithm,\n",
    "            \"representation\": representation,\n",
    "            \"distance\": distance,\n",
    "            \"score_mu\": [perf_mu, cali_mu],\n",
    "            \"score_std\": [perf_std, cali_std],\n",
    "            \"type\": [\"performance\", \"calibration\"],\n",
    "            \"metric\": [perf_metric.name, cali_metric.name],\n",
    "            \"n_samples\": n_samples,\n",
    "        }\n",
    "    )\n",
    "    continue\n",
    "    df = pd.concat((df, df_), ignore_index=True)\n",
    "\n",
    "# file_name = f\"perf_over_distance_{dataset}_{baseline_algorithm}_{representation}.csv\"\n",
    "# out_path = dm.fs.join(out_dir, file_name)\n",
    "# if dm.fs.exists(out_path) and not overwrite:\n",
    "#     raise RuntimeError(f\"{out_path} already exists!\")\n",
    "\n",
    "# logger.info(f\"Saving the performance over distance data to {out_path}\")\n",
    "# df.to_csv(out_path, index=False)"
   ]
  },
  {
   "cell_type": "code",
   "execution_count": null,
   "metadata": {},
   "outputs": [],
   "source": []
  }
 ],
 "metadata": {
  "kernelspec": {
   "display_name": "mood-experiments",
   "language": "python",
   "name": "python3"
  },
  "language_info": {
   "codemirror_mode": {
    "name": "ipython",
    "version": 3
   },
   "file_extension": ".py",
   "mimetype": "text/x-python",
   "name": "python",
   "nbconvert_exporter": "python",
   "pygments_lexer": "ipython3",
   "version": "3.10.14"
  }
 },
 "nbformat": 4,
 "nbformat_minor": 2
}

{
 "cells": [
  {
   "cell_type": "code",
   "execution_count": 1,
   "id": "88573524",
   "metadata": {},
   "outputs": [
    {
     "name": "stderr",
     "output_type": "stream",
     "text": [
      "/home/cas/local/conda/envs/mood_v2/lib/python3.10/site-packages/tqdm/auto.py:22: TqdmWarning: IProgress not found. Please update jupyter and ipywidgets. See https://ipywidgets.readthedocs.io/en/stable/user_install.html\n",
      "  from .autonotebook import tqdm as notebook_tqdm\n"
     ]
    }
   ],
   "source": [
    "import tqdm\n",
    "import itertools\n",
    "\n",
    "import datamol as dm\n",
    "import pandas as pd\n",
    "import numpy as np\n",
    "import seaborn as sns\n",
    "import matplotlib.pyplot as plt\n",
    "\n",
    "from mood.constants import DOWNSTREAM_RESULTS_DIR\n",
    "from mood.dataset import MOOD_DATASETS\n",
    "from mood.representations import MOOD_REPRESENTATIONS\n",
    "from mood.baselines import SUPPORTED_BASELINES\n",
    "from mood.utils import get_outlier_bounds\n",
    "from mood.metrics import Metric\n",
    "from mood.visualize import axes_grid_iterator, plot_performance_over_distance"
   ]
  },
  {
   "cell_type": "code",
   "execution_count": 2,
   "id": "ff0f5b5e",
   "metadata": {
    "pycharm": {
     "is_executing": true
    }
   },
   "outputs": [],
   "source": [
    "SUBDIR = \"20221213\""
   ]
  },
  {
   "cell_type": "code",
   "execution_count": 3,
   "id": "0154dde1",
   "metadata": {},
   "outputs": [],
   "source": [
    "in_dir = dm.fs.join(DOWNSTREAM_RESULTS_DIR, \"dataframes\", \"compare_performance\", SUBDIR)\n",
    "pattern = dm.fs.join(in_dir, \"perf_over_distance_*.csv\")\n",
    "paths = dm.fs.glob(pattern)"
   ]
  },
  {
   "cell_type": "code",
   "execution_count": 4,
   "id": "155149b6",
   "metadata": {},
   "outputs": [
    {
     "ename": "AssertionError",
     "evalue": "Missing 77:\n('BBB', 'GP', 'ChemBERTa')\n('BBB', 'GP', 'Desc2D')\n('BBB', 'GP', 'ECFP6')\n('BBB', 'GP', 'Graphormer')\n('BBB', 'GP', 'MACCS')\n('BBB', 'GP', 'WHIM')\n('BBB', 'MLP', 'ChemBERTa')\n('BBB', 'MLP', 'Desc2D')\n('BBB', 'MLP', 'ECFP6')\n('BBB', 'MLP', 'Graphormer')\n('BBB', 'MLP', 'MACCS')\n('BBB', 'MLP', 'WHIM')\n('BBB', 'RF', 'ChemBERTa')\n('BBB', 'RF', 'Desc2D')\n('BBB', 'RF', 'ECFP6')\n('BBB', 'RF', 'Graphormer')\n('BBB', 'RF', 'MACCS')\n('BBB', 'RF', 'WHIM')\n('CYPP4502C9', 'GP', 'ChemBERTa')\n('CYPP4502C9', 'GP', 'Desc2D')\n('CYPP4502C9', 'GP', 'ECFP6')\n('CYPP4502C9', 'GP', 'Graphormer')\n('CYPP4502C9', 'GP', 'MACCS')\n('CYPP4502C9', 'GP', 'WHIM')\n('CYPP4502C9', 'MLP', 'ChemBERTa')\n('CYPP4502C9', 'MLP', 'Desc2D')\n('CYPP4502C9', 'MLP', 'ECFP6')\n('CYPP4502C9', 'MLP', 'Graphormer')\n('CYPP4502C9', 'MLP', 'MACCS')\n('CYPP4502C9', 'MLP', 'WHIM')\n('CYPP4502C9', 'RF', 'ChemBERTa')\n('CYPP4502C9', 'RF', 'Desc2D')\n('CYPP4502C9', 'RF', 'ECFP6')\n('CYPP4502C9', 'RF', 'Graphormer')\n('CYPP4502C9', 'RF', 'MACCS')\n('CYPP4502C9', 'RF', 'WHIM')\n('Caco-2', 'GP', 'ChemBERTa')\n('Caco-2', 'GP', 'Desc2D')\n('Caco-2', 'GP', 'ECFP6')\n('Caco-2', 'GP', 'Graphormer')\n('Caco-2', 'GP', 'MACCS')\n('Caco-2', 'GP', 'WHIM')\n('Caco-2', 'MLP', 'ChemBERTa')\n('Caco-2', 'MLP', 'Desc2D')\n('Caco-2', 'MLP', 'ECFP6')\n('Caco-2', 'MLP', 'Graphormer')\n('Caco-2', 'MLP', 'MACCS')\n('Caco-2', 'MLP', 'WHIM')\n('Caco-2', 'RF', 'ChemBERTa')\n('Caco-2', 'RF', 'Desc2D')\n('Caco-2', 'RF', 'ECFP6')\n('Caco-2', 'RF', 'Graphormer')\n('Caco-2', 'RF', 'MACCS')\n('Caco-2', 'RF', 'WHIM')\n('Lipophilicity', 'GP', 'ChemBERTa')\n('Lipophilicity', 'GP', 'Desc2D')\n('Lipophilicity', 'GP', 'ECFP6')\n('Lipophilicity', 'GP', 'Graphormer')\n('Lipophilicity', 'GP', 'MACCS')\n('Lipophilicity', 'GP', 'WHIM')\n('Lipophilicity', 'MLP', 'ChemBERTa')\n('Lipophilicity', 'MLP', 'Desc2D')\n('Lipophilicity', 'MLP', 'ECFP6')\n('Lipophilicity', 'MLP', 'Graphormer')\n('Lipophilicity', 'MLP', 'MACCS')\n('Lipophilicity', 'MLP', 'WHIM')\n('Lipophilicity', 'RF', 'ChemBERTa')\n('Lipophilicity', 'RF', 'Desc2D')\n('Lipophilicity', 'RF', 'ECFP6')\n('Lipophilicity', 'RF', 'Graphormer')\n('Lipophilicity', 'RF', 'MACCS')\n('Lipophilicity', 'RF', 'WHIM')\n('PPBR', 'GP', 'ChemBERTa')\n('PPBR', 'GP', 'Graphormer')\n('PPBR', 'MLP', 'ChemBERTa')\n('PPBR', 'RF', 'ChemBERTa')\n('PPBR', 'RF', 'Graphormer')\n",
     "output_type": "error",
     "traceback": [
      "\u001B[0;31m---------------------------------------------------------------------------\u001B[0m",
      "\u001B[0;31mAssertionError\u001B[0m                            Traceback (most recent call last)",
      "Cell \u001B[0;32mIn[4], line 17\u001B[0m\n\u001B[1;32m     13\u001B[0m     \u001B[38;5;28;01mreturn\u001B[39;00m msg \n\u001B[1;32m     16\u001B[0m all_triplets \u001B[38;5;241m=\u001B[39m \u001B[38;5;28mlist\u001B[39m(itertools\u001B[38;5;241m.\u001B[39mproduct(MOOD_DATASETS, SUPPORTED_BASELINES, MOOD_REPRESENTATIONS))\n\u001B[0;32m---> 17\u001B[0m \u001B[38;5;28;01massert\u001B[39;00m \u001B[38;5;28mlist\u001B[39m(all_triplets) \u001B[38;5;241m==\u001B[39m \u001B[38;5;28mlen\u001B[39m(paths), find_missing(paths, all_triplets)\n",
      "\u001B[0;31mAssertionError\u001B[0m: Missing 77:\n('BBB', 'GP', 'ChemBERTa')\n('BBB', 'GP', 'Desc2D')\n('BBB', 'GP', 'ECFP6')\n('BBB', 'GP', 'Graphormer')\n('BBB', 'GP', 'MACCS')\n('BBB', 'GP', 'WHIM')\n('BBB', 'MLP', 'ChemBERTa')\n('BBB', 'MLP', 'Desc2D')\n('BBB', 'MLP', 'ECFP6')\n('BBB', 'MLP', 'Graphormer')\n('BBB', 'MLP', 'MACCS')\n('BBB', 'MLP', 'WHIM')\n('BBB', 'RF', 'ChemBERTa')\n('BBB', 'RF', 'Desc2D')\n('BBB', 'RF', 'ECFP6')\n('BBB', 'RF', 'Graphormer')\n('BBB', 'RF', 'MACCS')\n('BBB', 'RF', 'WHIM')\n('CYPP4502C9', 'GP', 'ChemBERTa')\n('CYPP4502C9', 'GP', 'Desc2D')\n('CYPP4502C9', 'GP', 'ECFP6')\n('CYPP4502C9', 'GP', 'Graphormer')\n('CYPP4502C9', 'GP', 'MACCS')\n('CYPP4502C9', 'GP', 'WHIM')\n('CYPP4502C9', 'MLP', 'ChemBERTa')\n('CYPP4502C9', 'MLP', 'Desc2D')\n('CYPP4502C9', 'MLP', 'ECFP6')\n('CYPP4502C9', 'MLP', 'Graphormer')\n('CYPP4502C9', 'MLP', 'MACCS')\n('CYPP4502C9', 'MLP', 'WHIM')\n('CYPP4502C9', 'RF', 'ChemBERTa')\n('CYPP4502C9', 'RF', 'Desc2D')\n('CYPP4502C9', 'RF', 'ECFP6')\n('CYPP4502C9', 'RF', 'Graphormer')\n('CYPP4502C9', 'RF', 'MACCS')\n('CYPP4502C9', 'RF', 'WHIM')\n('Caco-2', 'GP', 'ChemBERTa')\n('Caco-2', 'GP', 'Desc2D')\n('Caco-2', 'GP', 'ECFP6')\n('Caco-2', 'GP', 'Graphormer')\n('Caco-2', 'GP', 'MACCS')\n('Caco-2', 'GP', 'WHIM')\n('Caco-2', 'MLP', 'ChemBERTa')\n('Caco-2', 'MLP', 'Desc2D')\n('Caco-2', 'MLP', 'ECFP6')\n('Caco-2', 'MLP', 'Graphormer')\n('Caco-2', 'MLP', 'MACCS')\n('Caco-2', 'MLP', 'WHIM')\n('Caco-2', 'RF', 'ChemBERTa')\n('Caco-2', 'RF', 'Desc2D')\n('Caco-2', 'RF', 'ECFP6')\n('Caco-2', 'RF', 'Graphormer')\n('Caco-2', 'RF', 'MACCS')\n('Caco-2', 'RF', 'WHIM')\n('Lipophilicity', 'GP', 'ChemBERTa')\n('Lipophilicity', 'GP', 'Desc2D')\n('Lipophilicity', 'GP', 'ECFP6')\n('Lipophilicity', 'GP', 'Graphormer')\n('Lipophilicity', 'GP', 'MACCS')\n('Lipophilicity', 'GP', 'WHIM')\n('Lipophilicity', 'MLP', 'ChemBERTa')\n('Lipophilicity', 'MLP', 'Desc2D')\n('Lipophilicity', 'MLP', 'ECFP6')\n('Lipophilicity', 'MLP', 'Graphormer')\n('Lipophilicity', 'MLP', 'MACCS')\n('Lipophilicity', 'MLP', 'WHIM')\n('Lipophilicity', 'RF', 'ChemBERTa')\n('Lipophilicity', 'RF', 'Desc2D')\n('Lipophilicity', 'RF', 'ECFP6')\n('Lipophilicity', 'RF', 'Graphormer')\n('Lipophilicity', 'RF', 'MACCS')\n('Lipophilicity', 'RF', 'WHIM')\n('PPBR', 'GP', 'ChemBERTa')\n('PPBR', 'GP', 'Graphormer')\n('PPBR', 'MLP', 'ChemBERTa')\n('PPBR', 'RF', 'ChemBERTa')\n('PPBR', 'RF', 'Graphormer')\n"
     ]
    }
   ],
   "source": [
    "def find_missing(paths, all_triplets):\n",
    "    triplets = []\n",
    "    for path in paths:\n",
    "        path = dm.fs.get_basename(path)\n",
    "        path = \".\".join(path.split(\".\")[:-1])\n",
    "        triplet = tuple(path.split(\"_\")[3:])\n",
    "        triplets.append(triplet)\n",
    "    missing = set(all_triplets) - set(triplets)\n",
    "    \n",
    "    msg = f\"Missing {len(missing)}:\\n\"\n",
    "    for m in sorted(missing): \n",
    "        msg += f\"{m}\\n\"\n",
    "    return msg \n",
    "                        \n",
    "\n",
    "all_triplets = list(itertools.product(MOOD_DATASETS, SUPPORTED_BASELINES, MOOD_REPRESENTATIONS))\n",
    "assert list(all_triplets) == len(paths), find_missing(paths, all_triplets)"
   ]
  },
  {
   "cell_type": "code",
   "execution_count": 5,
   "id": "86ca5b85",
   "metadata": {},
   "outputs": [
    {
     "name": "stderr",
     "output_type": "stream",
     "text": [
      "100%|███████████████████████████████████████████████████████████████████████████████████████████████████████████████████████████████████████████████████████████████████████████████████████████████████████████████████████████████████████████████████████████████████████████████████████████████████████████████████| 121/121 [00:27<00:00,  4.34it/s]\n"
     ]
    }
   ],
   "source": [
    "df_original = pd.concat([pd.read_csv(p) for p in tqdm.tqdm(paths)], ignore_index=True)"
   ]
  },
  {
   "cell_type": "code",
   "execution_count": null,
   "id": "770a8f95",
   "metadata": {},
   "outputs": [],
   "source": [
    "for baseline, group in df_original.groupby(\"algorithm\"):\n",
    "    \n",
    "    iterator = axes_grid_iterator(\n",
    "        col_labels=MOOD_DATASETS, \n",
    "        row_labels=MOOD_REPRESENTATIONS\n",
    "    )\n",
    "    \n",
    "    for ax, representation, dataset in iterator:\n",
    "        df = group[group[\"dataset\"] == dataset]\n",
    "        df = df[df[\"representation\"] == representation]\n",
    "        \n",
    "        performance_data = df[df[\"type\"] == \"performance\"]\n",
    "        calibration_data = df[df[\"type\"] == \"calibration\"]\n",
    "        \n",
    "        plot_performance_over_distance(\n",
    "            performance_data, \n",
    "            calibration_data, \n",
    "            dataset,\n",
    "            ax=ax, \n",
    "            show_legend=False\n",
    "        )"
   ]
  },
  {
   "cell_type": "markdown",
   "id": "b400c3e7",
   "metadata": {},
   "source": [
    "The End. "
   ]
  }
 ],
 "metadata": {
  "kernelspec": {
   "display_name": "Python 3 (ipykernel)",
   "language": "python",
   "name": "python3"
  },
  "language_info": {
   "codemirror_mode": {
    "name": "ipython",
    "version": 3
   },
   "file_extension": ".py",
   "mimetype": "text/x-python",
   "name": "python",
   "nbconvert_exporter": "python",
   "pygments_lexer": "ipython3",
   "version": "3.10.8"
  }
 },
 "nbformat": 4,
 "nbformat_minor": 5
}

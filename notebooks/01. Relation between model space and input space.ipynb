{
 "cells": [
  {
   "cell_type": "code",
   "execution_count": 1,
   "id": "a18e3367",
   "metadata": {},
   "outputs": [],
   "source": [
    "import datamol as dm\n",
    "import numpy as np\n",
    "import pandas as pd\n",
    "import seaborn as sns\n",
    "import matplotlib.pyplot as plt\n",
    "\n",
    "from datetime import datetime\n",
    "\n",
    "from scipy.stats import pearsonr, spearmanr\n",
    "from sklearn.metrics import r2_score\n",
    "from sklearn.ensemble import RandomForestRegressor, RandomForestClassifier\n",
    "from sklearn.neural_network import MLPRegressor, MLPClassifier\n",
    "from sklearn.gaussian_process import GaussianProcessRegressor, GaussianProcessClassifier\n",
    "from sklearn.gaussian_process.kernels import PairwiseKernel, Sum, WhiteKernel\n",
    "\n",
    "from mood.dataset import dataset_iterator, load_data_from_tdc, MOOD_REGR_DATASETS, MOOD_CLSF_DATASETS\n",
    "from mood.model_space import ModelSpaceTransformer\n",
    "from mood.preprocessing import standardize_smiles\n",
    "from mood.distance import compute_knn_distance\n",
    "from mood.visualize import plot_distance_distributions\n",
    "from mood.representations import representation_iterator, featurize\n",
    "from mood.constants import DOWNSTREAM_APPS_DATA_DIR\n",
    "from mood.utils import load_representation_for_downstream_application, save_figure_with_fsspec, get_outlier_bounds"
   ]
  },
  {
   "cell_type": "code",
   "execution_count": 2,
   "id": "afc5b5ab",
   "metadata": {},
   "outputs": [],
   "source": []
  },
  {
   "cell_type": "code",
   "execution_count": 3,
   "id": "971a3dce",
   "metadata": {},
   "outputs": [],
   "source": [
    "BASE_SAVE_DIR = \"gs://experiments-output/mood-v2/results/figures/\"\n",
    "OVERWRITE = True\n",
    "\n",
    "today = datetime.now().strftime(\"%Y%m%d\")\n",
    "save_dir = dm.fs.join(BASE_SAVE_DIR, f\"{today}_NB01\")"
   ]
  },
  {
   "cell_type": "code",
   "execution_count": null,
   "id": "ec45f06e",
   "metadata": {
    "scrolled": true
   },
   "outputs": [
    {
     "name": "stderr",
     "output_type": "stream",
     "text": [
      "Found local copy...\n",
      "Loading...\n",
      "Done!\n"
     ]
    },
    {
     "data": {
      "application/vnd.jupyter.widget-view+json": {
       "model_id": "4116521923084127a6a3c71a3a360a95",
       "version_major": 2,
       "version_minor": 0
      },
      "text/plain": [
       "Preprocess BBB:   0%|          | 0/2030 [00:00<?, ?it/s]"
      ]
     },
     "metadata": {},
     "output_type": "display_data"
    },
    {
     "data": {
      "application/vnd.jupyter.widget-view+json": {
       "model_id": "497d717f822e447aa9a3f5ba195c1941",
       "version_major": 2,
       "version_minor": 0
      },
      "text/plain": [
       "MACCS:   0%|          | 0/2030 [00:00<?, ?it/s]"
      ]
     },
     "metadata": {},
     "output_type": "display_data"
    },
    {
     "data": {
      "application/vnd.jupyter.widget-view+json": {
       "model_id": "da603e5ca4d446f8b71b124346a8298a",
       "version_major": 2,
       "version_minor": 0
      },
      "text/plain": [
       "ECFP6:   0%|          | 0/2030 [00:00<?, ?it/s]"
      ]
     },
     "metadata": {},
     "output_type": "display_data"
    },
    {
     "data": {
      "application/vnd.jupyter.widget-view+json": {
       "model_id": "75d4bca1b83f41719f8129ae7b521c7c",
       "version_major": 2,
       "version_minor": 0
      },
      "text/plain": [
       "Desc2D:   0%|          | 0/2030 [00:00<?, ?it/s]"
      ]
     },
     "metadata": {},
     "output_type": "display_data"
    },
    {
     "data": {
      "application/vnd.jupyter.widget-view+json": {
       "model_id": "1b8206bb999642bc8b71669cba1a1718",
       "version_major": 2,
       "version_minor": 0
      },
      "text/plain": [
       "WHIM:   0%|          | 0/2030 [00:00<?, ?it/s]"
      ]
     },
     "metadata": {},
     "output_type": "display_data"
    },
    {
     "name": "stderr",
     "output_type": "stream",
     "text": [
      "Found local copy...\n",
      "Loading...\n",
      "Done!\n"
     ]
    },
    {
     "data": {
      "application/vnd.jupyter.widget-view+json": {
       "model_id": "8c36b2c8e4994fe884e4a30f5321f81d",
       "version_major": 2,
       "version_minor": 0
      },
      "text/plain": [
       "Preprocess CYPP4502C9:   0%|          | 0/12092 [00:00<?, ?it/s]"
      ]
     },
     "metadata": {},
     "output_type": "display_data"
    },
    {
     "data": {
      "application/vnd.jupyter.widget-view+json": {
       "model_id": "6bc64292503b431da41b38e41423b96a",
       "version_major": 2,
       "version_minor": 0
      },
      "text/plain": [
       "MACCS:   0%|          | 0/12092 [00:00<?, ?it/s]"
      ]
     },
     "metadata": {},
     "output_type": "display_data"
    },
    {
     "data": {
      "application/vnd.jupyter.widget-view+json": {
       "model_id": "ae7ed2ca72ff40e3a916f9528a60d6b3",
       "version_major": 2,
       "version_minor": 0
      },
      "text/plain": [
       "ECFP6:   0%|          | 0/12092 [00:00<?, ?it/s]"
      ]
     },
     "metadata": {},
     "output_type": "display_data"
    }
   ],
   "source": [
    "df_corr = pd.DataFrame()\n",
    "\n",
    "for dataset, (smiles, y) in dataset_iterator(standardize_smiles, progress=True):\n",
    "\n",
    "    for representation, (X, mask) in representation_iterator(smiles, n_jobs=-1, progress=True):\n",
    "            \n",
    "        y_repr = y[mask]\n",
    "        \n",
    "        virtual_screening = load_representation_for_downstream_application(\"virtual_screening\", representation)\n",
    "        optimization = load_representation_for_downstream_application(\"optimization\", representation)      \n",
    "        \n",
    "        is_regression = dataset in MOOD_REGR_DATASETS\n",
    "        mlp_model = train_model(X, y_repr, \"mlp\", is_regression)\n",
    "        rf_model = train_model(X, y_repr, \"rf\", is_regression)\n",
    "        gp_model = train_model(X, y_repr, \"gp\", is_regression)\n",
    "        \n",
    "        # Distances in input spaces\n",
    "        input_distances = compute_knn_distance(X, [X, optimization, virtual_screening], n_jobs=-1)\n",
    "        \n",
    "        labels = [\"Train\", \"Optimization\", \"Virtual Screening\"]\n",
    "        ax = plot_distance_distributions(input_distances, labels=labels)\n",
    "        ax.set_title(f\"Input space ({representation}, {dataset})\")\n",
    "        save_figure_with_fsspec(dm.fs.join(save_dir, f\"{dataset}_{representation}_input_space.png\"), exist_ok=OVERWRITE)\n",
    "        # To prevent the notebook from showing 100s of figures\n",
    "        plt.close()\n",
    "        \n",
    "        # Distances in different model spaces\n",
    "        for name, model in {\"MLP\": mlp_model, \"RF\": rf_model, \"GP\": gp_model}.items():\n",
    "            \n",
    "            if model is None: \n",
    "                continue \n",
    "\n",
    "            model_distances = get_model_space_distances(model, X, [X, optimization, virtual_screening])\n",
    "            \n",
    "            ax = plot_distance_distributions(model_distances, labels=labels)\n",
    "            ax.set_title(f\"{name} space ({representation}, {dataset})\")\n",
    "            \n",
    "            # Save figure\n",
    "            save_figure_with_fsspec(\n",
    "                dm.fs.join(save_dir, f\"{dataset}_{representation}_{name}_space.png\"), \n",
    "                exist_ok=OVERWRITE\n",
    "            )\n",
    "            # To prevent the notebook from showing 100s of figures\n",
    "            plt.close()\n",
    "            \n",
    "            # Compute correlation\n",
    "            df = compute_correlations(\n",
    "                input_distances,\n",
    "                model_distances,\n",
    "                labels,\n",
    "            )\n",
    "            df[\"model\"] = name\n",
    "            df[\"dataset\"] = dataset\n",
    "            df[\"representation\"] = representation\n",
    "            df_corr = pd.concat((df_corr, df), ignore_index=True)\n",
    "\n",
    "path = dm.fs.join(save_dir, \"correlations.csv\")\n",
    "df_corr.to_csv(path, index=False)\n",
    "df_corr.head()"
   ]
  },
  {
   "cell_type": "code",
   "execution_count": null,
   "id": "a884b46d",
   "metadata": {},
   "outputs": [],
   "source": [
    "sns.boxplot(data=df_corr, x=\"model\", y=\"spearman\")"
   ]
  },
  {
   "cell_type": "markdown",
   "id": "91951ebb",
   "metadata": {},
   "source": [
    "The End."
   ]
  }
 ],
 "metadata": {
  "kernelspec": {
   "display_name": "Python 3 (ipykernel)",
   "language": "python",
   "name": "python3"
  },
  "language_info": {
   "codemirror_mode": {
    "name": "ipython",
    "version": 3
   },
   "file_extension": ".py",
   "mimetype": "text/x-python",
   "name": "python",
   "nbconvert_exporter": "python",
   "pygments_lexer": "ipython3",
   "version": "3.10.6"
  }
 },
 "nbformat": 4,
 "nbformat_minor": 5
}

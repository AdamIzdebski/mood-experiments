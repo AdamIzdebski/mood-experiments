{
 "cells": [
  {
   "cell_type": "code",
   "execution_count": 17,
   "id": "1f71d12c",
   "metadata": {},
   "outputs": [],
   "source": [
    "import yaml\n",
    "import fsspec\n",
    "import datamol as dm"
   ]
  },
  {
   "cell_type": "code",
   "execution_count": 18,
   "id": "a788f306",
   "metadata": {},
   "outputs": [],
   "source": [
    "paths = dm.fs.glob(\"gs://experiments-output/mood-v2/results/YAML/RCT/20230106/*.yaml\")"
   ]
  },
  {
   "cell_type": "code",
   "execution_count": 20,
   "id": "46cb8638",
   "metadata": {},
   "outputs": [
    {
     "data": {
      "text/plain": [
       "{'algorithm': 'CORAL',\n",
       " 'criterion': 'Calibration x Performance',\n",
       " 'criterion_final': 0.3807184694202442,\n",
       " 'dataset': 'DILI',\n",
       " 'hparams': {'lr': 0.004460878997888638,\n",
       "  'mlp_depth': 2,\n",
       "  'mlp_width': 128,\n",
       "  'penalty_weight': 5.913211550120897,\n",
       "  'penalty_weight_schedule': [25, 50],\n",
       "  'weight_decay': 'auto'},\n",
       " 'representation': 'ECFP6',\n",
       " 'seed': 64144,\n",
       " 'test_calibration_final': 0.3066387474536896,\n",
       " 'test_performance_0': 0.8374885320663452,\n",
       " 'test_performance_1': 0.8582640886306763,\n",
       " 'test_performance_2': 0.8370267748832703,\n",
       " 'test_performance_final': 0.77885502576828,\n",
       " 'train_val_split': 'Perimeter',\n",
       " 'val_performance_0': 0.7594203352928162,\n",
       " 'val_performance_1': 0.8154881596565247,\n",
       " 'val_performance_2': 0.7063343524932861}"
      ]
     },
     "execution_count": 20,
     "metadata": {},
     "output_type": "execute_result"
    }
   ],
   "source": [
    "with fsspec.open(paths[0]) as fd:\n",
    "    data = yaml.safe_load(fd)\n",
    "data"
   ]
  },
  {
   "cell_type": "markdown",
   "id": "c42626fc",
   "metadata": {},
   "source": [
    "The End."
   ]
  }
 ],
 "metadata": {
  "kernelspec": {
   "display_name": "Python 3 (ipykernel)",
   "language": "python",
   "name": "python3"
  },
  "language_info": {
   "codemirror_mode": {
    "name": "ipython",
    "version": 3
   },
   "file_extension": ".py",
   "mimetype": "text/x-python",
   "name": "python",
   "nbconvert_exporter": "python",
   "pygments_lexer": "ipython3",
   "version": "3.10.8"
  }
 },
 "nbformat": 4,
 "nbformat_minor": 5
}

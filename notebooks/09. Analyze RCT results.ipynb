{
 "cells": [
  {
   "cell_type": "code",
   "execution_count": 8,
   "id": "1f71d12c",
   "metadata": {},
   "outputs": [],
   "source": [
    "import os\n",
    "import yaml\n",
    "import fsspec\n",
    "import datamol as dm\n",
    "import pandas as pd\n",
    "\n",
    "from mood.rct import get_experimental_configurations\n",
    "from mood.dataset import MOOD_DATASETS"
   ]
  },
  {
   "cell_type": "code",
   "execution_count": 2,
   "id": "be2f93ac",
   "metadata": {},
   "outputs": [],
   "source": [
    "SUBDIR = \"20230106\"\n",
    "BASE_PATH = \"gs://experiments-output/mood-v2/results/YAML/RCT/\"\n",
    "N_RCT_TRIALS = 250"
   ]
  },
  {
   "cell_type": "code",
   "execution_count": 3,
   "id": "69625c43",
   "metadata": {},
   "outputs": [
    {
     "name": "stdout",
     "output_type": "stream",
     "text": [
      "Missing 17/250 of results for DILI\n",
      "Missing 25/250 of results for HIA\n",
      "Missing 21/250 of results for hERG\n",
      "Missing 39/250 of results for HalfLife\n",
      "Missing 49/250 of results for Caco-2\n",
      "Missing 30/250 of results for Clearance\n",
      "Missing 220/250 of results for Pgp\n",
      "Missing 250/250 of results for PPBR\n",
      "Missing 242/250 of results for BBB\n",
      "Missing 250/250 of results for Lipophilicity\n",
      "Missing 250/250 of results for CYP2C9\n"
     ]
    }
   ],
   "source": [
    "def get_result_paths_for_dataset(dataset):\n",
    "    pattern = dm.fs.join(BASE_PATH, SUBDIR, f\"*{dataset}*.yaml\")\n",
    "    paths = dm.fs.glob(pattern)\n",
    "    return paths\n",
    "\n",
    "\n",
    "def find_missing(dataset, n: int = N_RCT_TRIALS):\n",
    "    \n",
    "    paths = get_result_paths_for_dataset(dataset)\n",
    "    missing_configs = get_experimental_configurations(dataset)[:n]\n",
    "    \n",
    "    for path in paths: \n",
    "        \n",
    "        path = dm.fs.get_basename(path)\n",
    "        path = os.path.splitext(path)[0]\n",
    "        \n",
    "        config = path.split(\"_\")[4:]\n",
    "        config[-1] = int(config[-1])\n",
    "        config = tuple(config)\n",
    "        \n",
    "        missing_configs.remove(config)\n",
    "        \n",
    "    return sorted(missing_configs)\n",
    "        \n",
    "\n",
    "for dataset in MOOD_DATASETS:\n",
    "    print(f\"Missing {len(find_missing(dataset))}/{N_RCT_TRIALS} of results for {dataset}\")"
   ]
  },
  {
   "cell_type": "code",
   "execution_count": 6,
   "id": "c00f0b9f",
   "metadata": {},
   "outputs": [
    {
     "data": {
      "text/plain": [
       "'gcs://experiments-output/mood-v2/results/YAML/RCT/20230106/rct_selected_model_DILI_CORAL_ChemBERTa_Perimeter_Performance_2.yaml'"
      ]
     },
     "execution_count": 6,
     "metadata": {},
     "output_type": "execute_result"
    }
   ],
   "source": [
    "get_result_paths_for_dataset(\"DILI\")[0]"
   ]
  },
  {
   "cell_type": "code",
   "execution_count": 21,
   "id": "23511e64",
   "metadata": {},
   "outputs": [
    {
     "name": "stderr",
     "output_type": "stream",
     "text": [
      "  0%|                                                                                                                                                                                                    | 0/1378 [00:00<?, ?it/s]/home/cas/mambaforge/envs/mood_v2/lib/python3.10/site-packages/google/auth/_default.py:83: UserWarning: Your application has authenticated using end user credentials from Google Cloud SDK without a quota project. You might receive a \"quota exceeded\" or \"API not enabled\" error. We recommend you rerun `gcloud auth application-default login` and make sure a quota project is added. Or you can use service accounts instead. For more information about service accounts, see https://cloud.google.com/docs/authentication/\n",
      "  warnings.warn(_CLOUD_SDK_CREDENTIALS_WARNING)\n",
      "/home/cas/mambaforge/envs/mood_v2/lib/python3.10/site-packages/google/auth/_default.py:83: UserWarning: Your application has authenticated using end user credentials from Google Cloud SDK without a quota project. You might receive a \"quota exceeded\" or \"API not enabled\" error. We recommend you rerun `gcloud auth application-default login` and make sure a quota project is added. Or you can use service accounts instead. For more information about service accounts, see https://cloud.google.com/docs/authentication/\n",
      "  warnings.warn(_CLOUD_SDK_CREDENTIALS_WARNING)\n",
      "/home/cas/mambaforge/envs/mood_v2/lib/python3.10/site-packages/google/auth/_default.py:83: UserWarning: Your application has authenticated using end user credentials from Google Cloud SDK without a quota project. You might receive a \"quota exceeded\" or \"API not enabled\" error. We recommend you rerun `gcloud auth application-default login` and make sure a quota project is added. Or you can use service accounts instead. For more information about service accounts, see https://cloud.google.com/docs/authentication/\n",
      "  warnings.warn(_CLOUD_SDK_CREDENTIALS_WARNING)\n",
      "/home/cas/mambaforge/envs/mood_v2/lib/python3.10/site-packages/google/auth/_default.py:83: UserWarning: Your application has authenticated using end user credentials from Google Cloud SDK without a quota project. You might receive a \"quota exceeded\" or \"API not enabled\" error. We recommend you rerun `gcloud auth application-default login` and make sure a quota project is added. Or you can use service accounts instead. For more information about service accounts, see https://cloud.google.com/docs/authentication/\n",
      "  warnings.warn(_CLOUD_SDK_CREDENTIALS_WARNING)\n",
      "/home/cas/mambaforge/envs/mood_v2/lib/python3.10/site-packages/google/auth/_default.py:83: UserWarning: Your application has authenticated using end user credentials from Google Cloud SDK without a quota project. You might receive a \"quota exceeded\" or \"API not enabled\" error. We recommend you rerun `gcloud auth application-default login` and make sure a quota project is added. Or you can use service accounts instead. For more information about service accounts, see https://cloud.google.com/docs/authentication/\n",
      "  warnings.warn(_CLOUD_SDK_CREDENTIALS_WARNING)\n",
      "/home/cas/mambaforge/envs/mood_v2/lib/python3.10/site-packages/google/auth/_default.py:83: UserWarning: Your application has authenticated using end user credentials from Google Cloud SDK without a quota project. You might receive a \"quota exceeded\" or \"API not enabled\" error. We recommend you rerun `gcloud auth application-default login` and make sure a quota project is added. Or you can use service accounts instead. For more information about service accounts, see https://cloud.google.com/docs/authentication/\n",
      "  warnings.warn(_CLOUD_SDK_CREDENTIALS_WARNING)\n",
      "/home/cas/mambaforge/envs/mood_v2/lib/python3.10/site-packages/google/auth/_default.py:83: UserWarning: Your application has authenticated using end user credentials from Google Cloud SDK without a quota project. You might receive a \"quota exceeded\" or \"API not enabled\" error. We recommend you rerun `gcloud auth application-default login` and make sure a quota project is added. Or you can use service accounts instead. For more information about service accounts, see https://cloud.google.com/docs/authentication/\n",
      "  warnings.warn(_CLOUD_SDK_CREDENTIALS_WARNING)\n",
      "/home/cas/mambaforge/envs/mood_v2/lib/python3.10/site-packages/google/auth/_default.py:83: UserWarning: Your application has authenticated using end user credentials from Google Cloud SDK without a quota project. You might receive a \"quota exceeded\" or \"API not enabled\" error. We recommend you rerun `gcloud auth application-default login` and make sure a quota project is added. Or you can use service accounts instead. For more information about service accounts, see https://cloud.google.com/docs/authentication/\n",
      "  warnings.warn(_CLOUD_SDK_CREDENTIALS_WARNING)\n",
      "100%|█████████████████████████████████████████████████████████████████████████████████████████████████████████████████████████████████████████████████████████████████████████████████████████| 1378/1378 [00:34<00:00, 39.58it/s]\n"
     ]
    }
   ],
   "source": [
    "def load_results(path):\n",
    "    with fsspec.open(path, \"r\") as fd:\n",
    "        data = yaml.safe_load(fd)\n",
    "        data.pop(\"hparams\")\n",
    "        \n",
    "    # NOTE: Due to a bug, the seed in the YAML was faulty. \n",
    "    # Luckily, we can still extract the right seed from the filename\n",
    "    data[\"seed\"] = int(path[-6])\n",
    "    return pd.DataFrame(data, index=[0])\n",
    "\n",
    "\n",
    "paths = [p for dataset in MOOD_DATASETS for p in get_result_paths_for_dataset(dataset)]\n",
    "df = pd.concat(dm.utils.parallelized(load_results, paths, progress=True), ignore_index=True)"
   ]
  },
  {
   "cell_type": "markdown",
   "id": "c42626fc",
   "metadata": {},
   "source": [
    "The End."
   ]
  }
 ],
 "metadata": {
  "kernelspec": {
   "display_name": "Python 3 (ipykernel)",
   "language": "python",
   "name": "python3"
  },
  "language_info": {
   "codemirror_mode": {
    "name": "ipython",
    "version": 3
   },
   "file_extension": ".py",
   "mimetype": "text/x-python",
   "name": "python",
   "nbconvert_exporter": "python",
   "pygments_lexer": "ipython3",
   "version": "3.10.8"
  }
 },
 "nbformat": 4,
 "nbformat_minor": 5
}

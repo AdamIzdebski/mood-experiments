{
 "cells": [
  {
   "cell_type": "code",
   "execution_count": 1,
   "id": "32e1bc3b",
   "metadata": {},
   "outputs": [
    {
     "name": "stderr",
     "output_type": "stream",
     "text": [
      "/home/cas/local/conda/envs/mood_v2/lib/python3.10/site-packages/tqdm/auto.py:22: TqdmWarning: IProgress not found. Please update jupyter and ipywidgets. See https://ipywidgets.readthedocs.io/en/stable/user_install.html\n",
      "  from .autonotebook import tqdm as notebook_tqdm\n"
     ]
    }
   ],
   "source": [
    "import os \n",
    "\n",
    "import datamol as dm\n",
    "import pandas as pd\n",
    "import seaborn as sns\n",
    "import matplotlib.pyplot as plt\n",
    "\n",
    "from scipy.stats import pearsonr\n",
    "\n",
    "from mood.rct import get_experimental_configurations\n",
    "from mood.dataset import MOOD_DATASETS\n",
    "from mood.metrics import Metric\n",
    "from mood.criteria import get_mood_criteria, MOOD_CRITERIA\n",
    "from mood.splitter import MOOD_SPLITTERS\n",
    "from mood.utils import get_outlier_bounds"
   ]
  },
  {
   "cell_type": "code",
   "execution_count": 2,
   "id": "f6cf0ca1",
   "metadata": {},
   "outputs": [],
   "source": [
    "SUBDIR = \"20230225\"\n",
    "BASE_PATH = \"gs://experiments-output/mood-v2/results/dataframes/RCT/\"\n",
    "N_RCT_TRIALS = 250"
   ]
  },
  {
   "cell_type": "code",
   "execution_count": 3,
   "id": "e5319561",
   "metadata": {},
   "outputs": [
    {
     "name": "stdout",
     "output_type": "stream",
     "text": [
      "Missing 96/250 of results for DILI\n",
      "Missing 1/250 of results for HIA\n",
      "Missing 0/250 of results for hERG\n",
      "Missing 0/250 of results for HalfLife\n",
      "Missing 0/250 of results for Caco-2\n",
      "Missing 0/250 of results for Clearance\n",
      "Missing 0/250 of results for Pgp\n",
      "Missing 0/250 of results for PPBR\n",
      "Missing 1/250 of results for BBB\n",
      "Missing 0/250 of results for Lipophilicity\n",
      "Missing 14/250 of results for CYP2C9\n"
     ]
    }
   ],
   "source": [
    "def get_result_paths_for_dataset(dataset):\n",
    "    pattern = dm.fs.join(BASE_PATH, SUBDIR, f\"*{dataset}*.csv\")\n",
    "    paths = dm.fs.glob(pattern)\n",
    "    return paths\n",
    "\n",
    "\n",
    "def find_missing(dataset, n: int = N_RCT_TRIALS):\n",
    "    \n",
    "    paths = get_result_paths_for_dataset(dataset)\n",
    "    all_configs = get_experimental_configurations(dataset)[:n]\n",
    "    indices = list(range(n))\n",
    "    \n",
    "    for path in paths: \n",
    "        \n",
    "        path = dm.fs.get_basename(path)\n",
    "        path = os.path.splitext(path)[0]\n",
    "        \n",
    "        config = path.split(\"_\")[3:]\n",
    "        config[-1] = int(config[-1])\n",
    "        config = tuple(config)\n",
    "        \n",
    "        indices.remove(all_configs.index(config))\n",
    "        \n",
    "    return indices\n",
    "        \n",
    "\n",
    "for dataset in MOOD_DATASETS:\n",
    "    print(f\"Missing {len(find_missing(dataset))}/{N_RCT_TRIALS} of results for {dataset}\")"
   ]
  },
  {
   "cell_type": "code",
   "execution_count": 4,
   "id": "1cc8fe29",
   "metadata": {},
   "outputs": [
    {
     "name": "stderr",
     "output_type": "stream",
     "text": [
      "  2%|██▏                                                                                                                                 | 44/2638 [00:03<03:03, 14.11it/s]\n"
     ]
    },
    {
     "ename": "KeyError",
     "evalue": "'value'",
     "output_type": "error",
     "traceback": [
      "\u001b[0;31m---------------------------------------------------------------------------\u001b[0m",
      "\u001b[0;31m_RemoteTraceback\u001b[0m                          Traceback (most recent call last)",
      "\u001b[0;31m_RemoteTraceback\u001b[0m: \n\"\"\"\nTraceback (most recent call last):\n  File \"/home/cas/local/conda/envs/mood_v2/lib/python3.10/site-packages/pandas/core/indexes/base.py\", line 3803, in get_loc\n    return self._engine.get_loc(casted_key)\n  File \"pandas/_libs/index.pyx\", line 138, in pandas._libs.index.IndexEngine.get_loc\n  File \"pandas/_libs/index.pyx\", line 165, in pandas._libs.index.IndexEngine.get_loc\n  File \"pandas/_libs/hashtable_class_helper.pxi\", line 5745, in pandas._libs.hashtable.PyObjectHashTable.get_item\n  File \"pandas/_libs/hashtable_class_helper.pxi\", line 5753, in pandas._libs.hashtable.PyObjectHashTable.get_item\nKeyError: 'value'\n\nThe above exception was the direct cause of the following exception:\n\nTraceback (most recent call last):\n  File \"/home/cas/local/conda/envs/mood_v2/lib/python3.10/site-packages/joblib/externals/loky/process_executor.py\", line 428, in _process_worker\n    r = call_item()\n  File \"/home/cas/local/conda/envs/mood_v2/lib/python3.10/site-packages/joblib/externals/loky/process_executor.py\", line 275, in __call__\n    return self.fn(*self.args, **self.kwargs)\n  File \"/home/cas/local/conda/envs/mood_v2/lib/python3.10/site-packages/joblib/_parallel_backends.py\", line 620, in __call__\n    return self.func(*args, **kwargs)\n  File \"/home/cas/local/conda/envs/mood_v2/lib/python3.10/site-packages/joblib/parallel.py\", line 288, in __call__\n    return [func(*args, **kwargs)\n  File \"/home/cas/local/conda/envs/mood_v2/lib/python3.10/site-packages/joblib/parallel.py\", line 288, in <listcomp>\n    return [func(*args, **kwargs)\n  File \"/home/cas/local/conda/envs/mood_v2/lib/python3.10/site-packages/datamol/utils/jobs.py\", line 83, in _run\n    return fn(args, **fn_kwargs)\n  File \"/tmp/ipykernel_22558/2916585371.py\", line 17, in load_results\n  File \"/home/cas/local/conda/envs/mood_v2/lib/python3.10/site-packages/pandas/core/frame.py\", line 3805, in __getitem__\n    indexer = self.columns.get_loc(key)\n  File \"/home/cas/local/conda/envs/mood_v2/lib/python3.10/site-packages/pandas/core/indexes/base.py\", line 3805, in get_loc\n    raise KeyError(key) from err\nKeyError: 'value'\n\"\"\"",
      "\nThe above exception was the direct cause of the following exception:\n",
      "\u001b[0;31mKeyError\u001b[0m                                  Traceback (most recent call last)",
      "Cell \u001b[0;32mIn[4], line 40\u001b[0m\n\u001b[1;32m     36\u001b[0m     \u001b[38;5;28;01mreturn\u001b[39;00m df\n\u001b[1;32m     39\u001b[0m paths \u001b[38;5;241m=\u001b[39m [p \u001b[38;5;28;01mfor\u001b[39;00m dataset \u001b[38;5;129;01min\u001b[39;00m MOOD_DATASETS \u001b[38;5;28;01mfor\u001b[39;00m p \u001b[38;5;129;01min\u001b[39;00m get_result_paths_for_dataset(dataset)]\n\u001b[0;32m---> 40\u001b[0m df_original \u001b[38;5;241m=\u001b[39m pd\u001b[38;5;241m.\u001b[39mconcat(\u001b[43mdm\u001b[49m\u001b[38;5;241;43m.\u001b[39;49m\u001b[43mutils\u001b[49m\u001b[38;5;241;43m.\u001b[39;49m\u001b[43mparallelized\u001b[49m\u001b[43m(\u001b[49m\u001b[43mload_results\u001b[49m\u001b[43m,\u001b[49m\u001b[43m \u001b[49m\u001b[43mpaths\u001b[49m\u001b[43m,\u001b[49m\u001b[43m \u001b[49m\u001b[43mprogress\u001b[49m\u001b[38;5;241;43m=\u001b[39;49m\u001b[38;5;28;43;01mTrue\u001b[39;49;00m\u001b[43m)\u001b[49m, ignore_index\u001b[38;5;241m=\u001b[39m\u001b[38;5;28;01mTrue\u001b[39;00m)\n\u001b[1;32m     41\u001b[0m df_original\u001b[38;5;241m.\u001b[39mhead()\n",
      "File \u001b[0;32m~/local/conda/envs/mood_v2/lib/python3.10/site-packages/datamol/utils/jobs.py:256\u001b[0m, in \u001b[0;36mparallelized\u001b[0;34m(fn, inputs_list, scheduler, n_jobs, batch_size, progress, arg_type, total, tqdm_kwargs, **job_kwargs)\u001b[0m\n\u001b[1;32m    221\u001b[0m \u001b[38;5;250m\u001b[39m\u001b[38;5;124;03m\"\"\"Run a function in parallel.\u001b[39;00m\n\u001b[1;32m    222\u001b[0m \n\u001b[1;32m    223\u001b[0m \u001b[38;5;124;03mArgs:\u001b[39;00m\n\u001b[0;32m   (...)\u001b[0m\n\u001b[1;32m    244\u001b[0m \u001b[38;5;124;03m    The results of the execution as a list.\u001b[39;00m\n\u001b[1;32m    245\u001b[0m \u001b[38;5;124;03m\"\"\"\u001b[39;00m\n\u001b[1;32m    247\u001b[0m runner \u001b[38;5;241m=\u001b[39m JobRunner(\n\u001b[1;32m    248\u001b[0m     n_jobs\u001b[38;5;241m=\u001b[39mn_jobs,\n\u001b[1;32m    249\u001b[0m     batch_size\u001b[38;5;241m=\u001b[39mbatch_size,\n\u001b[0;32m   (...)\u001b[0m\n\u001b[1;32m    254\u001b[0m     \u001b[38;5;241m*\u001b[39m\u001b[38;5;241m*\u001b[39mjob_kwargs,\n\u001b[1;32m    255\u001b[0m )\n\u001b[0;32m--> 256\u001b[0m \u001b[38;5;28;01mreturn\u001b[39;00m \u001b[43mrunner\u001b[49m\u001b[43m(\u001b[49m\u001b[43mfn\u001b[49m\u001b[43m,\u001b[49m\u001b[43m \u001b[49m\u001b[43minputs_list\u001b[49m\u001b[43m,\u001b[49m\u001b[43m \u001b[49m\u001b[43marg_type\u001b[49m\u001b[38;5;241;43m=\u001b[39;49m\u001b[43marg_type\u001b[49m\u001b[43m)\u001b[49m\n",
      "File \u001b[0;32m~/local/conda/envs/mood_v2/lib/python3.10/site-packages/datamol/utils/jobs.py:159\u001b[0m, in \u001b[0;36mJobRunner.__call__\u001b[0;34m(self, *args, **kwargs)\u001b[0m\n\u001b[1;32m    157\u001b[0m \u001b[38;5;28;01mif\u001b[39;00m \u001b[38;5;28mself\u001b[39m\u001b[38;5;241m.\u001b[39mis_sequential:\n\u001b[1;32m    158\u001b[0m     \u001b[38;5;28;01mreturn\u001b[39;00m \u001b[38;5;28mself\u001b[39m\u001b[38;5;241m.\u001b[39msequential(\u001b[38;5;241m*\u001b[39margs, \u001b[38;5;241m*\u001b[39m\u001b[38;5;241m*\u001b[39mkwargs)\n\u001b[0;32m--> 159\u001b[0m \u001b[38;5;28;01mreturn\u001b[39;00m \u001b[38;5;28;43mself\u001b[39;49m\u001b[38;5;241;43m.\u001b[39;49m\u001b[43mparallel\u001b[49m\u001b[43m(\u001b[49m\u001b[38;5;241;43m*\u001b[39;49m\u001b[43margs\u001b[49m\u001b[43m,\u001b[49m\u001b[43m \u001b[49m\u001b[38;5;241;43m*\u001b[39;49m\u001b[38;5;241;43m*\u001b[39;49m\u001b[43mkwargs\u001b[49m\u001b[43m)\u001b[49m\n",
      "File \u001b[0;32m~/local/conda/envs/mood_v2/lib/python3.10/site-packages/datamol/utils/jobs.py:147\u001b[0m, in \u001b[0;36mJobRunner.parallel\u001b[0;34m(self, callable_fn, data, arg_type, **fn_kwargs)\u001b[0m\n\u001b[1;32m    144\u001b[0m     \u001b[38;5;28mself\u001b[39m\u001b[38;5;241m.\u001b[39mtqdm_kwargs[\u001b[38;5;124m\"\u001b[39m\u001b[38;5;124mdisable\u001b[39m\u001b[38;5;124m\"\u001b[39m] \u001b[38;5;241m=\u001b[39m \u001b[38;5;28mself\u001b[39m\u001b[38;5;241m.\u001b[39mno_progress\n\u001b[1;32m    146\u001b[0m runner \u001b[38;5;241m=\u001b[39m JobRunner\u001b[38;5;241m.\u001b[39m_parallel_helper(\u001b[38;5;241m*\u001b[39m\u001b[38;5;241m*\u001b[39m\u001b[38;5;28mself\u001b[39m\u001b[38;5;241m.\u001b[39mjob_kwargs)\n\u001b[0;32m--> 147\u001b[0m results \u001b[38;5;241m=\u001b[39m \u001b[43mrunner\u001b[49m\u001b[43m(\u001b[49m\u001b[38;5;241;43m*\u001b[39;49m\u001b[38;5;241;43m*\u001b[39;49m\u001b[38;5;28;43mself\u001b[39;49m\u001b[38;5;241;43m.\u001b[39;49m\u001b[43mtqdm_kwargs\u001b[49m\u001b[43m)\u001b[49m\u001b[43m(\u001b[49m\n\u001b[1;32m    148\u001b[0m \u001b[43m    \u001b[49m\u001b[43mdelayed\u001b[49m\u001b[43m(\u001b[49m\u001b[43mJobRunner\u001b[49m\u001b[38;5;241;43m.\u001b[39;49m\u001b[43mwrap_fn\u001b[49m\u001b[43m(\u001b[49m\u001b[43mcallable_fn\u001b[49m\u001b[43m,\u001b[49m\u001b[43m \u001b[49m\u001b[43marg_type\u001b[49m\u001b[43m,\u001b[49m\u001b[43m \u001b[49m\u001b[38;5;241;43m*\u001b[39;49m\u001b[38;5;241;43m*\u001b[39;49m\u001b[43mfn_kwargs\u001b[49m\u001b[43m)\u001b[49m\u001b[43m)\u001b[49m\u001b[43m(\u001b[49m\u001b[43mdt\u001b[49m\u001b[43m)\u001b[49m\u001b[43m \u001b[49m\u001b[38;5;28;43;01mfor\u001b[39;49;00m\u001b[43m \u001b[49m\u001b[43mdt\u001b[49m\u001b[43m \u001b[49m\u001b[38;5;129;43;01min\u001b[39;49;00m\u001b[43m \u001b[49m\u001b[43mdata\u001b[49m\n\u001b[1;32m    149\u001b[0m \u001b[43m\u001b[49m\u001b[43m)\u001b[49m\n\u001b[1;32m    151\u001b[0m \u001b[38;5;28;01mreturn\u001b[39;00m results\n",
      "File \u001b[0;32m~/local/conda/envs/mood_v2/lib/python3.10/site-packages/datamol/utils/jobs.py:170\u001b[0m, in \u001b[0;36mJobRunner._parallel_helper.<locals>.run.<locals>.tmp\u001b[0;34m(op_iter)\u001b[0m\n\u001b[1;32m    168\u001b[0m \u001b[38;5;28;01mdef\u001b[39;00m \u001b[38;5;21mtmp\u001b[39m(op_iter):\n\u001b[1;32m    169\u001b[0m     \u001b[38;5;28;01mwith\u001b[39;00m _tqdm_callback(tqdm(\u001b[38;5;241m*\u001b[39m\u001b[38;5;241m*\u001b[39mtq_args)):\n\u001b[0;32m--> 170\u001b[0m         \u001b[38;5;28;01mreturn\u001b[39;00m \u001b[43mParallel\u001b[49m\u001b[43m(\u001b[49m\u001b[38;5;241;43m*\u001b[39;49m\u001b[38;5;241;43m*\u001b[39;49m\u001b[43mjoblib_args\u001b[49m\u001b[43m)\u001b[49m\u001b[43m(\u001b[49m\u001b[43mop_iter\u001b[49m\u001b[43m)\u001b[49m\n",
      "File \u001b[0;32m~/local/conda/envs/mood_v2/lib/python3.10/site-packages/joblib/parallel.py:1098\u001b[0m, in \u001b[0;36mParallel.__call__\u001b[0;34m(self, iterable)\u001b[0m\n\u001b[1;32m   1095\u001b[0m     \u001b[38;5;28mself\u001b[39m\u001b[38;5;241m.\u001b[39m_iterating \u001b[38;5;241m=\u001b[39m \u001b[38;5;28;01mFalse\u001b[39;00m\n\u001b[1;32m   1097\u001b[0m \u001b[38;5;28;01mwith\u001b[39;00m \u001b[38;5;28mself\u001b[39m\u001b[38;5;241m.\u001b[39m_backend\u001b[38;5;241m.\u001b[39mretrieval_context():\n\u001b[0;32m-> 1098\u001b[0m     \u001b[38;5;28;43mself\u001b[39;49m\u001b[38;5;241;43m.\u001b[39;49m\u001b[43mretrieve\u001b[49m\u001b[43m(\u001b[49m\u001b[43m)\u001b[49m\n\u001b[1;32m   1099\u001b[0m \u001b[38;5;66;03m# Make sure that we get a last message telling us we are done\u001b[39;00m\n\u001b[1;32m   1100\u001b[0m elapsed_time \u001b[38;5;241m=\u001b[39m time\u001b[38;5;241m.\u001b[39mtime() \u001b[38;5;241m-\u001b[39m \u001b[38;5;28mself\u001b[39m\u001b[38;5;241m.\u001b[39m_start_time\n",
      "File \u001b[0;32m~/local/conda/envs/mood_v2/lib/python3.10/site-packages/joblib/parallel.py:975\u001b[0m, in \u001b[0;36mParallel.retrieve\u001b[0;34m(self)\u001b[0m\n\u001b[1;32m    973\u001b[0m \u001b[38;5;28;01mtry\u001b[39;00m:\n\u001b[1;32m    974\u001b[0m     \u001b[38;5;28;01mif\u001b[39;00m \u001b[38;5;28mgetattr\u001b[39m(\u001b[38;5;28mself\u001b[39m\u001b[38;5;241m.\u001b[39m_backend, \u001b[38;5;124m'\u001b[39m\u001b[38;5;124msupports_timeout\u001b[39m\u001b[38;5;124m'\u001b[39m, \u001b[38;5;28;01mFalse\u001b[39;00m):\n\u001b[0;32m--> 975\u001b[0m         \u001b[38;5;28mself\u001b[39m\u001b[38;5;241m.\u001b[39m_output\u001b[38;5;241m.\u001b[39mextend(\u001b[43mjob\u001b[49m\u001b[38;5;241;43m.\u001b[39;49m\u001b[43mget\u001b[49m\u001b[43m(\u001b[49m\u001b[43mtimeout\u001b[49m\u001b[38;5;241;43m=\u001b[39;49m\u001b[38;5;28;43mself\u001b[39;49m\u001b[38;5;241;43m.\u001b[39;49m\u001b[43mtimeout\u001b[49m\u001b[43m)\u001b[49m)\n\u001b[1;32m    976\u001b[0m     \u001b[38;5;28;01melse\u001b[39;00m:\n\u001b[1;32m    977\u001b[0m         \u001b[38;5;28mself\u001b[39m\u001b[38;5;241m.\u001b[39m_output\u001b[38;5;241m.\u001b[39mextend(job\u001b[38;5;241m.\u001b[39mget())\n",
      "File \u001b[0;32m~/local/conda/envs/mood_v2/lib/python3.10/site-packages/joblib/_parallel_backends.py:567\u001b[0m, in \u001b[0;36mLokyBackend.wrap_future_result\u001b[0;34m(future, timeout)\u001b[0m\n\u001b[1;32m    564\u001b[0m \u001b[38;5;250m\u001b[39m\u001b[38;5;124;03m\"\"\"Wrapper for Future.result to implement the same behaviour as\u001b[39;00m\n\u001b[1;32m    565\u001b[0m \u001b[38;5;124;03mAsyncResults.get from multiprocessing.\"\"\"\u001b[39;00m\n\u001b[1;32m    566\u001b[0m \u001b[38;5;28;01mtry\u001b[39;00m:\n\u001b[0;32m--> 567\u001b[0m     \u001b[38;5;28;01mreturn\u001b[39;00m \u001b[43mfuture\u001b[49m\u001b[38;5;241;43m.\u001b[39;49m\u001b[43mresult\u001b[49m\u001b[43m(\u001b[49m\u001b[43mtimeout\u001b[49m\u001b[38;5;241;43m=\u001b[39;49m\u001b[43mtimeout\u001b[49m\u001b[43m)\u001b[49m\n\u001b[1;32m    568\u001b[0m \u001b[38;5;28;01mexcept\u001b[39;00m CfTimeoutError \u001b[38;5;28;01mas\u001b[39;00m e:\n\u001b[1;32m    569\u001b[0m     \u001b[38;5;28;01mraise\u001b[39;00m \u001b[38;5;167;01mTimeoutError\u001b[39;00m \u001b[38;5;28;01mfrom\u001b[39;00m \u001b[38;5;21;01me\u001b[39;00m\n",
      "File \u001b[0;32m~/local/conda/envs/mood_v2/lib/python3.10/concurrent/futures/_base.py:458\u001b[0m, in \u001b[0;36mFuture.result\u001b[0;34m(self, timeout)\u001b[0m\n\u001b[1;32m    456\u001b[0m     \u001b[38;5;28;01mraise\u001b[39;00m CancelledError()\n\u001b[1;32m    457\u001b[0m \u001b[38;5;28;01melif\u001b[39;00m \u001b[38;5;28mself\u001b[39m\u001b[38;5;241m.\u001b[39m_state \u001b[38;5;241m==\u001b[39m FINISHED:\n\u001b[0;32m--> 458\u001b[0m     \u001b[38;5;28;01mreturn\u001b[39;00m \u001b[38;5;28;43mself\u001b[39;49m\u001b[38;5;241;43m.\u001b[39;49m\u001b[43m__get_result\u001b[49m\u001b[43m(\u001b[49m\u001b[43m)\u001b[49m\n\u001b[1;32m    459\u001b[0m \u001b[38;5;28;01melse\u001b[39;00m:\n\u001b[1;32m    460\u001b[0m     \u001b[38;5;28;01mraise\u001b[39;00m \u001b[38;5;167;01mTimeoutError\u001b[39;00m()\n",
      "File \u001b[0;32m~/local/conda/envs/mood_v2/lib/python3.10/concurrent/futures/_base.py:403\u001b[0m, in \u001b[0;36mFuture.__get_result\u001b[0;34m(self)\u001b[0m\n\u001b[1;32m    401\u001b[0m \u001b[38;5;28;01mif\u001b[39;00m \u001b[38;5;28mself\u001b[39m\u001b[38;5;241m.\u001b[39m_exception:\n\u001b[1;32m    402\u001b[0m     \u001b[38;5;28;01mtry\u001b[39;00m:\n\u001b[0;32m--> 403\u001b[0m         \u001b[38;5;28;01mraise\u001b[39;00m \u001b[38;5;28mself\u001b[39m\u001b[38;5;241m.\u001b[39m_exception\n\u001b[1;32m    404\u001b[0m     \u001b[38;5;28;01mfinally\u001b[39;00m:\n\u001b[1;32m    405\u001b[0m         \u001b[38;5;66;03m# Break a reference cycle with the exception in self._exception\u001b[39;00m\n\u001b[1;32m    406\u001b[0m         \u001b[38;5;28mself\u001b[39m \u001b[38;5;241m=\u001b[39m \u001b[38;5;28;01mNone\u001b[39;00m\n",
      "\u001b[0;31mKeyError\u001b[0m: 'value'"
     ]
    }
   ],
   "source": [
    "def load_results(path):\n",
    "    \n",
    "    df = pd.read_csv(path)\n",
    "    df = df[df[\"state\"] == \"COMPLETE\"]\n",
    "\n",
    "    dataset = df[\"dataset\"].iloc[0]\n",
    "    criterion = df[\"criterion\"].iloc[0]\n",
    "    train_val_split = df[\"train-val split\"].iloc[0]\n",
    "    \n",
    "    df[\"test_performance\"] = df[[col for col in df.columns if \"test_performance\" in col]].mean(axis=1)\n",
    "    df[\"val_performance\"] = df[[col for col in df.columns if \"val_performance\" in col]].mean(axis=1)\n",
    "    \n",
    "    cal_metric = Metric.get_default_calibration_metric(dataset)\n",
    "    prf_metric = Metric.get_default_performance_metric(dataset)\n",
    "    mode = get_mood_criteria(prf_metric, cal_metric)[criterion].mode\n",
    "    \n",
    "    df[\"criterion_rank\"] = df[\"value\"].rank(ascending=mode == \"min\", method=\"first\")\n",
    "    df[\"test_score_rank\"] = df[\"test_performance\"].rank(ascending=prf_metric.mode == \"min\", method=\"first\")\n",
    "    \n",
    "    chosen_score = df.loc[df[\"criterion_rank\"] == 1, \"test_performance\"].item()\n",
    "    best_score = df.loc[df[\"test_score_rank\"] == 1, \"test_performance\"].item()\n",
    "    gap = best_score - chosen_score\n",
    "    if prf_metric.mode == \"min\":\n",
    "        gap = -gap\n",
    "    \n",
    "    corr = pearsonr(df[\"value\"].values, df[\"test_performance\"].values)[0]\n",
    "    \n",
    "    df = pd.DataFrame({\n",
    "        \"dataset\": dataset,\n",
    "        \"criterion\": criterion,\n",
    "        \"train_val_split\": train_val_split,\n",
    "        \"gap\": gap,\n",
    "        \"corr\": corr,\n",
    "        \"metric\": prf_metric.name,\n",
    "    }, index=[0])\n",
    "    return df\n",
    "\n",
    "\n",
    "paths = [p for dataset in MOOD_DATASETS for p in get_result_paths_for_dataset(dataset)]\n",
    "df_original = pd.concat(dm.utils.parallelized(load_results, paths, progress=True), ignore_index=True)\n",
    "df_original.head()"
   ]
  },
  {
   "cell_type": "code",
   "execution_count": null,
   "id": "40420416",
   "metadata": {},
   "outputs": [],
   "source": [
    "df = df_original.copy()\n",
    "lower, upper = get_outlier_bounds(df[\"gap\"].values)\n",
    "df = df[(df[\"gap\"] >= lower) & (df[\"gap\"] <= upper)]"
   ]
  },
  {
   "cell_type": "code",
   "execution_count": null,
   "id": "9393f49d",
   "metadata": {},
   "outputs": [],
   "source": [
    "sns.set_theme(style=\"whitegrid\")"
   ]
  },
  {
   "cell_type": "markdown",
   "id": "971a0f8b",
   "metadata": {},
   "source": [
    "# Comparing different criteria"
   ]
  },
  {
   "cell_type": "code",
   "execution_count": null,
   "id": "db8a5403",
   "metadata": {
    "scrolled": false
   },
   "outputs": [],
   "source": [
    "fig, ax = plt.subplots(figsize=(12, 7))\n",
    "sns.boxplot(data=df, x=\"dataset\", y=\"gap\", hue=\"criterion\", ax=ax, hue_order=MOOD_CRITERIA, order=MOOD_DATASETS)\n",
    "ax.set_ylabel(\"Gap in test performance between selected and best model\")\n",
    "ax.set_xlabel(\"Dataset\")\n",
    "ax.get_legend().set_title(\"Criteria\")"
   ]
  },
  {
   "cell_type": "markdown",
   "id": "28e5271f",
   "metadata": {},
   "source": [
    "# Comparing different train-val splits"
   ]
  },
  {
   "cell_type": "code",
   "execution_count": null,
   "id": "1aca2a04",
   "metadata": {},
   "outputs": [],
   "source": [
    "fig, ax = plt.subplots(figsize=(12, 7))\n",
    "sns.boxplot(data=df, x=\"dataset\", y=\"gap\", hue=\"train_val_split\", ax=ax, hue_order=MOOD_SPLITTERS, order=MOOD_DATASETS)\n",
    "ax.set_ylabel(\"Gap in test performance between selected and best model\")\n",
    "ax.set_xlabel(\"Dataset\")\n",
    "ax.get_legend().set_title(\"Train-val split\")"
   ]
  },
  {
   "cell_type": "markdown",
   "id": "6ba45152",
   "metadata": {},
   "source": [
    "The End. "
   ]
  }
 ],
 "metadata": {
  "kernelspec": {
   "display_name": "Python 3 (ipykernel)",
   "language": "python",
   "name": "python3"
  },
  "language_info": {
   "codemirror_mode": {
    "name": "ipython",
    "version": 3
   },
   "file_extension": ".py",
   "mimetype": "text/x-python",
   "name": "python",
   "nbconvert_exporter": "python",
   "pygments_lexer": "ipython3",
   "version": "3.10.8"
  }
 },
 "nbformat": 4,
 "nbformat_minor": 5
}
